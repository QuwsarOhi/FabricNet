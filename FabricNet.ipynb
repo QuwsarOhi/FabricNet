{
  "nbformat": 4,
  "nbformat_minor": 0,
  "metadata": {
    "colab": {
      "name": "FabricNet_Example.ipynb",
      "provenance": [],
      "collapsed_sections": []
    },
    "kernelspec": {
      "name": "python3",
      "display_name": "Python 3"
    },
    "language_info": {
      "name": "python"
    },
    "accelerator": "GPU"
  },
  "cells": [
    {
      "cell_type": "code",
      "metadata": {
        "id": "8eYvF13Usvuh"
      },
      "source": [
        "import numpy as np\n",
        "import tensorflow as tf\n",
        "from tensorflow.keras.layers import *\n",
        "import matplotlib.pyplot as plt"
      ],
      "execution_count": 1,
      "outputs": []
    },
    {
      "cell_type": "code",
      "metadata": {
        "id": "CefqRq1otLJG"
      },
      "source": [
        "(x_train, y_train), (x_test, y_test) = tf.keras.datasets.cifar10.load_data()\n",
        "\n",
        "y_train = tf.one_hot(np.squeeze(y_train), depth=10).numpy()\n",
        "y_test = tf.one_hot(np.squeeze(y_test), depth=10).numpy()"
      ],
      "execution_count": 2,
      "outputs": []
    },
    {
      "cell_type": "code",
      "metadata": {
        "id": "W7uq8si8sh2l"
      },
      "source": [
        "def parser(tok, id, cls):\n",
        "    ''' \n",
        "    SepConv: S,f,k,s\n",
        "    MaxPool: P,s\n",
        "    ReLU   : R\n",
        "    Dropout: D\n",
        "    '''\n",
        "    if tok[0] == 'S':\n",
        "        filters, ks, stride = list(map(int, tok[1:].split(',')))\n",
        "        return SeparableConv2D(filters=filters, kernel_size=ks, strides=stride, \n",
        "                                padding='same', name=f'sepconv2d_d{id}_c{cls}')\n",
        "    elif tok[0] == 'P':\n",
        "        return MaxPool2D(pool_size=int(tok[1:]), name=f'MaxPool2D_d{id}_c{cls}')\n",
        "    elif tok[0] == 'R':\n",
        "        return ReLU(name=f'ReLU_d{id}_c{cls}')\n",
        "    elif tok[0] == 'D':\n",
        "        return Dropout(0.1, name=f'dropout_d{id}_c{cls}')\n",
        "    elif tok[0] == 'N':\n",
        "        return BatchNormalization()\n",
        "    else:\n",
        "        print('Invalid')\n",
        "\n",
        "\n",
        "# How to define ensemble structure:\n",
        "# S: SeparableConv2D, follows by filter, kernel, and stride \n",
        "#    example: S64,3,2\n",
        "# P: MaxPool, followed by pool size\n",
        "#    example: P2\n",
        "# R: ReLU activation\n",
        "# D: Dropout, defaults to 0.1 drop\n",
        "#\n",
        "# A full example: 'S8,3,2_R_D_S8,3,2_R_D'\n",
        "# The network is as follows:\n",
        "#    SeparableConv2D(filters=8, kernel_size=3, strides=2)\n",
        "#    ReLU()\n",
        "#    Dropout(0.1)\n",
        "#    SeparableConv2D(filters=8, kernel_size=3, strides=2)\n",
        "#    ReLU()\n",
        "#    Dropout(0.1)\n",
        "\n",
        "\n",
        "ensemble_structure = ['S64,3,2_R_D_S64,3,2_R_D',\n",
        "                      'S32,3,2_R_D_S64,3,2_R_D',\n",
        "                      'S16,3,2_R_D_S32,3,2_R_D', \n",
        "                      'S8,3,2_R_D_S8,3,2_R_D',\n",
        "                      'S4,3,2_S16,3,2']\n",
        "\n",
        "\n",
        "def Xception_block(input_shape, classes,\n",
        "                   activation='sigmoid',\n",
        "                   flows=7, \n",
        "                   ensemble='S16,3,2_R_D_S32,3,2_R_D',\n",
        "                   loss='binary_crossentropy',\n",
        "                   learning_rate=0.001,\n",
        "                   weights='imagenet'):\n",
        "\n",
        "    '''\n",
        "    input_shape : input shape of image\n",
        "    classes     : number of classes \n",
        "    breakindex  : number of xception block-flows to be used \n",
        "    ensemble    : the default ensemble model to be followed for each class\n",
        "    '''\n",
        "\n",
        "    assert flows > 0 and flows < 10, \"The number of flows should be between [1-9]\"\n",
        "    assert loss in ['binary_crossentropy', 'categorical_crossentropy'], \"loss can be either 'binary_crossentropy' or 'categorical_crossentropy'\"\n",
        "\n",
        "    tf.keras.backend.clear_session()\n",
        "    breakindex = [36, 46, 56, 66, 76, 86, 96, 106, 116]\n",
        "    \n",
        "    input_img = tf.keras.Input(input_shape, name='input')\n",
        "    base_model = tf.keras.applications.Xception(input_tensor=input_img, \n",
        "                                                include_top=False, \n",
        "                                                weights=weights)\n",
        "    \n",
        "    totLayers = len(base_model.layers)\n",
        "    for i in range(totLayers):\n",
        "        base_model.layers[i]._name += '_head'\n",
        "\n",
        "    # Last index of the head CNN\n",
        "    comb_out = base_model.layers[breakindex[flows-1]].output\n",
        "    #base_model.layers[breakindex[flows-1]]._name += '_lastcom'\n",
        "\n",
        "    seps = []\n",
        "    if ensemble != '':\n",
        "        esets = ensemble.split('_')\n",
        "    else:\n",
        "        esets = None\n",
        "\n",
        "    for seg in range(classes):\n",
        "        if esets != None:\n",
        "            res = comb_out\n",
        "            past = None\n",
        "            for i, tok in enumerate(esets):\n",
        "                res = parser(tok, i, seg)(res)\n",
        "                if 'S' in tok and past != None and res.shape[-1] == past.shape[-1]:\n",
        "                    res = Add()([res, past])\n",
        "                    print('Residual added')\n",
        "                if 'S' in tok:\n",
        "                    past = res\n",
        "        else:\n",
        "            res = SeparableConv2D(filters=16, kernel_size=3, \n",
        "                                  strides=2, name=f'sepconv2d_d1_c{seg}')(comb_out)\n",
        "            res = ReLU(name=f'maxpool2d_d1_c{seg}')(res)\n",
        "            res = SeparableConv2D(filters=8, kernel_size=3, strides=2, name=f'sepconv2d_d2_c{seg}')(res)\n",
        "            res = ReLU(name=f'maxpool2d_d2_c{seg}')(res)\n",
        "\n",
        "        res = Flatten(name='flatten_'+str(seg))(res)\n",
        "        res = Dense(1)(res)\n",
        "        seps.append(res)\n",
        "        \n",
        "    out = Concatenate()(seps)\n",
        "    out = Activation('sigmoid' if loss=='binary_crossentropy' else 'softmax')(out)    \n",
        "    model = tf.keras.Model(input_img, out)\n",
        "\n",
        "    print('Params', model.count_params())\n",
        "\n",
        "    model.compile(optimizer=tf.keras.optimizers.Adam(learning_rate=learning_rate), \n",
        "                  loss=loss,\n",
        "                  metrics=[tf.keras.metrics.CategoricalAccuracy(),\n",
        "                           tf.keras.metrics.BinaryAccuracy(),\n",
        "                           tf.keras.metrics.Precision(),\n",
        "                           tf.keras.metrics.Recall(),\n",
        "                           tf.keras.metrics.TopKCategoricalAccuracy(),\n",
        "                           tf.keras.metrics.AUC(num_thresholds=200,\n",
        "                                                multi_label=True),\n",
        "                           tf.keras.metrics.TruePositives(),\n",
        "                           tf.keras.metrics.FalsePositives(),\n",
        "                           ],\n",
        "                  )\n",
        "    \n",
        "    return model"
      ],
      "execution_count": 3,
      "outputs": []
    },
    {
      "cell_type": "code",
      "metadata": {
        "colab": {
          "base_uri": "https://localhost:8080/"
        },
        "id": "8EEN7sd_vdHW",
        "outputId": "bf6f699a-a6d5-4a0a-cd91-8974c574f339"
      },
      "source": [
        "model = Xception_block(x_train.shape[1:], 10,\n",
        "                       flows=1, ensemble=ensemble_structure[-1],\n",
        "                       loss='categorical_crossentropy')"
      ],
      "execution_count": 4,
      "outputs": [
        {
          "output_type": "stream",
          "text": [
            "Params 1209634\n"
          ],
          "name": "stdout"
        }
      ]
    },
    {
      "cell_type": "code",
      "metadata": {
        "colab": {
          "base_uri": "https://localhost:8080/"
        },
        "id": "KDYwlVIlxQaL",
        "outputId": "38144e51-50aa-48a9-c67d-7b51ee6419bf"
      },
      "source": [
        "model.summary()"
      ],
      "execution_count": 5,
      "outputs": [
        {
          "output_type": "stream",
          "text": [
            "Model: \"model\"\n",
            "__________________________________________________________________________________________________\n",
            "Layer (type)                    Output Shape         Param #     Connected to                     \n",
            "==================================================================================================\n",
            "input_head (InputLayer)         [(None, 32, 32, 3)]  0                                            \n",
            "__________________________________________________________________________________________________\n",
            "block1_conv1_head (Conv2D)      (None, 15, 15, 32)   864         input_head[0][0]                 \n",
            "__________________________________________________________________________________________________\n",
            "block1_conv1_bn_head (BatchNorm (None, 15, 15, 32)   128         block1_conv1_head[0][0]          \n",
            "__________________________________________________________________________________________________\n",
            "block1_conv1_act_head (Activati (None, 15, 15, 32)   0           block1_conv1_bn_head[0][0]       \n",
            "__________________________________________________________________________________________________\n",
            "block1_conv2_head (Conv2D)      (None, 13, 13, 64)   18432       block1_conv1_act_head[0][0]      \n",
            "__________________________________________________________________________________________________\n",
            "block1_conv2_bn_head (BatchNorm (None, 13, 13, 64)   256         block1_conv2_head[0][0]          \n",
            "__________________________________________________________________________________________________\n",
            "block1_conv2_act_head (Activati (None, 13, 13, 64)   0           block1_conv2_bn_head[0][0]       \n",
            "__________________________________________________________________________________________________\n",
            "block2_sepconv1_head (Separable (None, 13, 13, 128)  8768        block1_conv2_act_head[0][0]      \n",
            "__________________________________________________________________________________________________\n",
            "block2_sepconv1_bn_head (BatchN (None, 13, 13, 128)  512         block2_sepconv1_head[0][0]       \n",
            "__________________________________________________________________________________________________\n",
            "block2_sepconv2_act_head (Activ (None, 13, 13, 128)  0           block2_sepconv1_bn_head[0][0]    \n",
            "__________________________________________________________________________________________________\n",
            "block2_sepconv2_head (Separable (None, 13, 13, 128)  17536       block2_sepconv2_act_head[0][0]   \n",
            "__________________________________________________________________________________________________\n",
            "block2_sepconv2_bn_head (BatchN (None, 13, 13, 128)  512         block2_sepconv2_head[0][0]       \n",
            "__________________________________________________________________________________________________\n",
            "conv2d_head (Conv2D)            (None, 7, 7, 128)    8192        block1_conv2_act_head[0][0]      \n",
            "__________________________________________________________________________________________________\n",
            "block2_pool_head (MaxPooling2D) (None, 7, 7, 128)    0           block2_sepconv2_bn_head[0][0]    \n",
            "__________________________________________________________________________________________________\n",
            "batch_normalization_head (Batch (None, 7, 7, 128)    512         conv2d_head[0][0]                \n",
            "__________________________________________________________________________________________________\n",
            "add_head (Add)                  (None, 7, 7, 128)    0           block2_pool_head[0][0]           \n",
            "                                                                 batch_normalization_head[0][0]   \n",
            "__________________________________________________________________________________________________\n",
            "block3_sepconv1_act_head (Activ (None, 7, 7, 128)    0           add_head[0][0]                   \n",
            "__________________________________________________________________________________________________\n",
            "block3_sepconv1_head (Separable (None, 7, 7, 256)    33920       block3_sepconv1_act_head[0][0]   \n",
            "__________________________________________________________________________________________________\n",
            "block3_sepconv1_bn_head (BatchN (None, 7, 7, 256)    1024        block3_sepconv1_head[0][0]       \n",
            "__________________________________________________________________________________________________\n",
            "block3_sepconv2_act_head (Activ (None, 7, 7, 256)    0           block3_sepconv1_bn_head[0][0]    \n",
            "__________________________________________________________________________________________________\n",
            "block3_sepconv2_head (Separable (None, 7, 7, 256)    67840       block3_sepconv2_act_head[0][0]   \n",
            "__________________________________________________________________________________________________\n",
            "block3_sepconv2_bn_head (BatchN (None, 7, 7, 256)    1024        block3_sepconv2_head[0][0]       \n",
            "__________________________________________________________________________________________________\n",
            "conv2d_1_head (Conv2D)          (None, 4, 4, 256)    32768       add_head[0][0]                   \n",
            "__________________________________________________________________________________________________\n",
            "block3_pool_head (MaxPooling2D) (None, 4, 4, 256)    0           block3_sepconv2_bn_head[0][0]    \n",
            "__________________________________________________________________________________________________\n",
            "batch_normalization_1_head (Bat (None, 4, 4, 256)    1024        conv2d_1_head[0][0]              \n",
            "__________________________________________________________________________________________________\n",
            "add_1_head (Add)                (None, 4, 4, 256)    0           block3_pool_head[0][0]           \n",
            "                                                                 batch_normalization_1_head[0][0] \n",
            "__________________________________________________________________________________________________\n",
            "block4_sepconv1_act_head (Activ (None, 4, 4, 256)    0           add_1_head[0][0]                 \n",
            "__________________________________________________________________________________________________\n",
            "block4_sepconv1_head (Separable (None, 4, 4, 728)    188672      block4_sepconv1_act_head[0][0]   \n",
            "__________________________________________________________________________________________________\n",
            "block4_sepconv1_bn_head (BatchN (None, 4, 4, 728)    2912        block4_sepconv1_head[0][0]       \n",
            "__________________________________________________________________________________________________\n",
            "block4_sepconv2_act_head (Activ (None, 4, 4, 728)    0           block4_sepconv1_bn_head[0][0]    \n",
            "__________________________________________________________________________________________________\n",
            "block4_sepconv2_head (Separable (None, 4, 4, 728)    536536      block4_sepconv2_act_head[0][0]   \n",
            "__________________________________________________________________________________________________\n",
            "block4_sepconv2_bn_head (BatchN (None, 4, 4, 728)    2912        block4_sepconv2_head[0][0]       \n",
            "__________________________________________________________________________________________________\n",
            "conv2d_2_head (Conv2D)          (None, 2, 2, 728)    186368      add_1_head[0][0]                 \n",
            "__________________________________________________________________________________________________\n",
            "block4_pool_head (MaxPooling2D) (None, 2, 2, 728)    0           block4_sepconv2_bn_head[0][0]    \n",
            "__________________________________________________________________________________________________\n",
            "batch_normalization_2_head (Bat (None, 2, 2, 728)    2912        conv2d_2_head[0][0]              \n",
            "__________________________________________________________________________________________________\n",
            "add_2_head (Add)                (None, 2, 2, 728)    0           block4_pool_head[0][0]           \n",
            "                                                                 batch_normalization_2_head[0][0] \n",
            "__________________________________________________________________________________________________\n",
            "block5_sepconv1_act_head (Activ (None, 2, 2, 728)    0           add_2_head[0][0]                 \n",
            "__________________________________________________________________________________________________\n",
            "sepconv2d_d0_c0 (SeparableConv2 (None, 1, 1, 4)      9468        block5_sepconv1_act_head[0][0]   \n",
            "__________________________________________________________________________________________________\n",
            "sepconv2d_d0_c1 (SeparableConv2 (None, 1, 1, 4)      9468        block5_sepconv1_act_head[0][0]   \n",
            "__________________________________________________________________________________________________\n",
            "sepconv2d_d0_c2 (SeparableConv2 (None, 1, 1, 4)      9468        block5_sepconv1_act_head[0][0]   \n",
            "__________________________________________________________________________________________________\n",
            "sepconv2d_d0_c3 (SeparableConv2 (None, 1, 1, 4)      9468        block5_sepconv1_act_head[0][0]   \n",
            "__________________________________________________________________________________________________\n",
            "sepconv2d_d0_c4 (SeparableConv2 (None, 1, 1, 4)      9468        block5_sepconv1_act_head[0][0]   \n",
            "__________________________________________________________________________________________________\n",
            "sepconv2d_d0_c5 (SeparableConv2 (None, 1, 1, 4)      9468        block5_sepconv1_act_head[0][0]   \n",
            "__________________________________________________________________________________________________\n",
            "sepconv2d_d0_c6 (SeparableConv2 (None, 1, 1, 4)      9468        block5_sepconv1_act_head[0][0]   \n",
            "__________________________________________________________________________________________________\n",
            "sepconv2d_d0_c7 (SeparableConv2 (None, 1, 1, 4)      9468        block5_sepconv1_act_head[0][0]   \n",
            "__________________________________________________________________________________________________\n",
            "sepconv2d_d0_c8 (SeparableConv2 (None, 1, 1, 4)      9468        block5_sepconv1_act_head[0][0]   \n",
            "__________________________________________________________________________________________________\n",
            "sepconv2d_d0_c9 (SeparableConv2 (None, 1, 1, 4)      9468        block5_sepconv1_act_head[0][0]   \n",
            "__________________________________________________________________________________________________\n",
            "sepconv2d_d1_c0 (SeparableConv2 (None, 1, 1, 16)     116         sepconv2d_d0_c0[0][0]            \n",
            "__________________________________________________________________________________________________\n",
            "sepconv2d_d1_c1 (SeparableConv2 (None, 1, 1, 16)     116         sepconv2d_d0_c1[0][0]            \n",
            "__________________________________________________________________________________________________\n",
            "sepconv2d_d1_c2 (SeparableConv2 (None, 1, 1, 16)     116         sepconv2d_d0_c2[0][0]            \n",
            "__________________________________________________________________________________________________\n",
            "sepconv2d_d1_c3 (SeparableConv2 (None, 1, 1, 16)     116         sepconv2d_d0_c3[0][0]            \n",
            "__________________________________________________________________________________________________\n",
            "sepconv2d_d1_c4 (SeparableConv2 (None, 1, 1, 16)     116         sepconv2d_d0_c4[0][0]            \n",
            "__________________________________________________________________________________________________\n",
            "sepconv2d_d1_c5 (SeparableConv2 (None, 1, 1, 16)     116         sepconv2d_d0_c5[0][0]            \n",
            "__________________________________________________________________________________________________\n",
            "sepconv2d_d1_c6 (SeparableConv2 (None, 1, 1, 16)     116         sepconv2d_d0_c6[0][0]            \n",
            "__________________________________________________________________________________________________\n",
            "sepconv2d_d1_c7 (SeparableConv2 (None, 1, 1, 16)     116         sepconv2d_d0_c7[0][0]            \n",
            "__________________________________________________________________________________________________\n",
            "sepconv2d_d1_c8 (SeparableConv2 (None, 1, 1, 16)     116         sepconv2d_d0_c8[0][0]            \n",
            "__________________________________________________________________________________________________\n",
            "sepconv2d_d1_c9 (SeparableConv2 (None, 1, 1, 16)     116         sepconv2d_d0_c9[0][0]            \n",
            "__________________________________________________________________________________________________\n",
            "flatten_0 (Flatten)             (None, 16)           0           sepconv2d_d1_c0[0][0]            \n",
            "__________________________________________________________________________________________________\n",
            "flatten_1 (Flatten)             (None, 16)           0           sepconv2d_d1_c1[0][0]            \n",
            "__________________________________________________________________________________________________\n",
            "flatten_2 (Flatten)             (None, 16)           0           sepconv2d_d1_c2[0][0]            \n",
            "__________________________________________________________________________________________________\n",
            "flatten_3 (Flatten)             (None, 16)           0           sepconv2d_d1_c3[0][0]            \n",
            "__________________________________________________________________________________________________\n",
            "flatten_4 (Flatten)             (None, 16)           0           sepconv2d_d1_c4[0][0]            \n",
            "__________________________________________________________________________________________________\n",
            "flatten_5 (Flatten)             (None, 16)           0           sepconv2d_d1_c5[0][0]            \n",
            "__________________________________________________________________________________________________\n",
            "flatten_6 (Flatten)             (None, 16)           0           sepconv2d_d1_c6[0][0]            \n",
            "__________________________________________________________________________________________________\n",
            "flatten_7 (Flatten)             (None, 16)           0           sepconv2d_d1_c7[0][0]            \n",
            "__________________________________________________________________________________________________\n",
            "flatten_8 (Flatten)             (None, 16)           0           sepconv2d_d1_c8[0][0]            \n",
            "__________________________________________________________________________________________________\n",
            "flatten_9 (Flatten)             (None, 16)           0           sepconv2d_d1_c9[0][0]            \n",
            "__________________________________________________________________________________________________\n",
            "dense (Dense)                   (None, 1)            17          flatten_0[0][0]                  \n",
            "__________________________________________________________________________________________________\n",
            "dense_1 (Dense)                 (None, 1)            17          flatten_1[0][0]                  \n",
            "__________________________________________________________________________________________________\n",
            "dense_2 (Dense)                 (None, 1)            17          flatten_2[0][0]                  \n",
            "__________________________________________________________________________________________________\n",
            "dense_3 (Dense)                 (None, 1)            17          flatten_3[0][0]                  \n",
            "__________________________________________________________________________________________________\n",
            "dense_4 (Dense)                 (None, 1)            17          flatten_4[0][0]                  \n",
            "__________________________________________________________________________________________________\n",
            "dense_5 (Dense)                 (None, 1)            17          flatten_5[0][0]                  \n",
            "__________________________________________________________________________________________________\n",
            "dense_6 (Dense)                 (None, 1)            17          flatten_6[0][0]                  \n",
            "__________________________________________________________________________________________________\n",
            "dense_7 (Dense)                 (None, 1)            17          flatten_7[0][0]                  \n",
            "__________________________________________________________________________________________________\n",
            "dense_8 (Dense)                 (None, 1)            17          flatten_8[0][0]                  \n",
            "__________________________________________________________________________________________________\n",
            "dense_9 (Dense)                 (None, 1)            17          flatten_9[0][0]                  \n",
            "__________________________________________________________________________________________________\n",
            "concatenate (Concatenate)       (None, 10)           0           dense[0][0]                      \n",
            "                                                                 dense_1[0][0]                    \n",
            "                                                                 dense_2[0][0]                    \n",
            "                                                                 dense_3[0][0]                    \n",
            "                                                                 dense_4[0][0]                    \n",
            "                                                                 dense_5[0][0]                    \n",
            "                                                                 dense_6[0][0]                    \n",
            "                                                                 dense_7[0][0]                    \n",
            "                                                                 dense_8[0][0]                    \n",
            "                                                                 dense_9[0][0]                    \n",
            "__________________________________________________________________________________________________\n",
            "activation (Activation)         (None, 10)           0           concatenate[0][0]                \n",
            "==================================================================================================\n",
            "Total params: 1,209,634\n",
            "Trainable params: 1,202,770\n",
            "Non-trainable params: 6,864\n",
            "__________________________________________________________________________________________________\n"
          ],
          "name": "stdout"
        }
      ]
    },
    {
      "cell_type": "code",
      "metadata": {
        "id": "RY5_hsI0B8hH"
      },
      "source": [
        "#tf.keras.utils.plot_model(model, to_file=\"model.png\",show_shapes=True, \n",
        "#                          show_layer_names=True, dpi=96)"
      ],
      "execution_count": 6,
      "outputs": []
    },
    {
      "cell_type": "code",
      "metadata": {
        "colab": {
          "base_uri": "https://localhost:8080/"
        },
        "id": "f6BAPUhuBNSz",
        "outputId": "354b7ea1-69d1-4010-845d-d6f16072489f"
      },
      "source": [
        "history = model.fit(x_train, y_train, validation_data=(x_test, y_test), \n",
        "                    epochs=10,\n",
        "                    callbacks=[tf.keras.callbacks.EarlyStopping(monitor='val_loss', \n",
        "                                                                patience=3,\n",
        "                                                                restore_best_weights=True)])"
      ],
      "execution_count": 7,
      "outputs": [
        {
          "output_type": "stream",
          "text": [
            "Epoch 1/10\n",
            "1563/1563 [==============================] - 66s 39ms/step - loss: 1.0511 - categorical_accuracy: 0.6254 - binary_accuracy: 0.9383 - precision: 0.7825 - recall: 0.4984 - top_k_categorical_accuracy: 0.9362 - auc: 0.9229 - true_positives: 14529.8587 - false_positives: 3189.9041 - val_loss: 0.5759 - val_categorical_accuracy: 0.8005 - val_binary_accuracy: 0.9620 - val_precision: 0.8529 - val_recall: 0.7489 - val_top_k_categorical_accuracy: 0.9897 - val_auc: 0.9786 - val_true_positives: 7489.0000 - val_false_positives: 1292.0000\n",
            "Epoch 2/10\n",
            "1563/1563 [==============================] - 58s 37ms/step - loss: 0.4482 - categorical_accuracy: 0.8432 - binary_accuracy: 0.9702 - precision: 0.8853 - recall: 0.8068 - top_k_categorical_accuracy: 0.9943 - auc: 0.9856 - true_positives: 20227.0090 - false_positives: 2642.6803 - val_loss: 0.6720 - val_categorical_accuracy: 0.7746 - val_binary_accuracy: 0.9571 - val_precision: 0.8140 - val_recall: 0.7401 - val_top_k_categorical_accuracy: 0.9887 - val_auc: 0.9758 - val_true_positives: 7401.0000 - val_false_positives: 1691.0000\n",
            "Epoch 3/10\n",
            "1563/1563 [==============================] - 57s 37ms/step - loss: 0.3021 - categorical_accuracy: 0.8954 - binary_accuracy: 0.9798 - precision: 0.9199 - recall: 0.8737 - top_k_categorical_accuracy: 0.9980 - auc: 0.9927 - true_positives: 21823.7276 - false_positives: 1965.3638 - val_loss: 0.6122 - val_categorical_accuracy: 0.8010 - val_binary_accuracy: 0.9619 - val_precision: 0.8266 - val_recall: 0.7828 - val_top_k_categorical_accuracy: 0.9915 - val_auc: 0.9773 - val_true_positives: 7828.0000 - val_false_positives: 1642.0000\n",
            "Epoch 4/10\n",
            "1563/1563 [==============================] - 59s 38ms/step - loss: 0.2143 - categorical_accuracy: 0.9235 - binary_accuracy: 0.9852 - precision: 0.9389 - recall: 0.9113 - top_k_categorical_accuracy: 0.9990 - auc: 0.9960 - true_positives: 22738.9680 - false_positives: 1568.0096 - val_loss: 0.6427 - val_categorical_accuracy: 0.8084 - val_binary_accuracy: 0.9630 - val_precision: 0.8322 - val_recall: 0.7887 - val_top_k_categorical_accuracy: 0.9879 - val_auc: 0.9747 - val_true_positives: 7887.0000 - val_false_positives: 1590.0000\n"
          ],
          "name": "stdout"
        }
      ]
    },
    {
      "cell_type": "code",
      "metadata": {
        "colab": {
          "base_uri": "https://localhost:8080/",
          "height": 279
        },
        "id": "M1oKzfm2G2Wu",
        "outputId": "f307f14c-a511-4c5f-bee9-bb0fae2aec97"
      },
      "source": [
        "epochs = np.arange(1, len(history.history['loss'])+1)\n",
        "\n",
        "plt.plot(epochs, history.history['loss'], label='loss')\n",
        "plt.plot(epochs, history.history['auc'], label='auc')\n",
        "plt.plot(epochs, history.history['precision'], label='precision')\n",
        "plt.plot(epochs, history.history['recall'], label='recall')\n",
        "\n",
        "\n",
        "plt.xlabel('Epochs')\n",
        "plt.ylabel('Metric')\n",
        "plt.grid()\n",
        "plt.legend()\n",
        "plt.show()"
      ],
      "execution_count": 11,
      "outputs": [
        {
          "output_type": "display_data",
          "data": {
            "image/png": "[encoded data removed]",
            "text/plain": [
              "<Figure size 432x288 with 1 Axes>"
            ]
          },
          "metadata": {
            "tags": [],
            "needs_background": "light"
          }
        }
      ]
    },
    {
      "cell_type": "code",
      "metadata": {
        "colab": {
          "base_uri": "https://localhost:8080/",
          "height": 279
        },
        "id": "zv3d8YyGDKlN",
        "outputId": "82d8f5b4-41c4-4fce-a9d0-267f9e89c776"
      },
      "source": [
        "plt.plot(epochs, history.history['val_loss'], label='val_loss')\n",
        "plt.plot(epochs, history.history['val_auc'], label='val_auc')\n",
        "plt.plot(epochs, history.history['val_precision'], label='val_precision')\n",
        "plt.plot(epochs, history.history['val_recall'], label='val_recall')\n",
        "\n",
        "plt.xlabel('Epochs')\n",
        "plt.ylabel('Metric')\n",
        "plt.grid()\n",
        "plt.legend()\n",
        "plt.show()"
      ],
      "execution_count": 12,
      "outputs": [
        {
          "output_type": "display_data",
          "data": {
            "image/png": "[encoded data removed]",
            "text/plain": [
              "<Figure size 432x288 with 1 Axes>"
            ]
          },
          "metadata": {
            "tags": [],
            "needs_background": "light"
          }
        }
      ]
    },
    {
      "cell_type": "code",
      "metadata": {
        "id": "Z59wsPK2DjGO"
      },
      "source": [
        ""
      ],
      "execution_count": null,
      "outputs": []
    }
  ]
}